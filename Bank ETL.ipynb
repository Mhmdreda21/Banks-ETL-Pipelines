{
 "cells": [
  {
   "cell_type": "code",
   "execution_count": null,
   "id": "fbee0f76-2932-4be6-b338-48646745f322",
   "metadata": {},
   "outputs": [],
   "source": []
  }
 ],
 "metadata": {
  "kernelspec": {
   "display_name": "",
   "name": ""
  },
  "language_info": {
   "name": ""
  }
 },
 "nbformat": 4,
 "nbformat_minor": 5
}
