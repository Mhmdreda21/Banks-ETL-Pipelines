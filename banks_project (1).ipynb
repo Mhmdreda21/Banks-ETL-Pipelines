{
 "cells": [
  {
   "cell_type": "code",
   "execution_count": 1,
   "id": "f845f413-f93f-4990-acff-65ea89de9e86",
   "metadata": {},
   "outputs": [],
   "source": [
    "import requests\n",
    "from bs4 import BeautifulSoup\n",
    "import pandas as pd\n",
    "import sqlite3\n",
    "from datetime import datetime"
   ]
  },
  {
   "cell_type": "code",
   "execution_count": 2,
   "id": "0a641c4c-aa22-415a-a909-7dce4a0cfe16",
   "metadata": {},
   "outputs": [],
   "source": [
    "def log_progress(message):\n",
    "    with open(\"code_log.txt\", \"a\") as f:\n",
    "        f.write(f\"{datetime.now()} : {message}\\n\")"
   ]
  },
  {
   "cell_type": "code",
   "execution_count": 4,
   "id": "8c965a02-91f8-44c1-a324-00025d60f70b",
   "metadata": {},
   "outputs": [],
   "source": [
    "def extract(url):\n",
    "    page = requests.get(url).text\n",
    "    soup = BeautifulSoup(page, \"html.parser\")\n",
    "    \n",
    "    # استخراج الجدول\n",
    "    table = soup.find(\"table\", {\"class\": \"wikitable\"})\n",
    "    df = pd.read_html(str(table))[0]\n",
    "    \n",
    "    # اختيار الأعمدة المطلوبة فقط\n",
    "    df = df[[\"Bank name\", \"Market cap (US$ billion)\"]]\n",
    "    df.columns = [\"Bank name\", \"MC_USD_Billion\"]\n",
    "    \n",
    "    # ناخد أول 10 بنوك\n",
    "    df = df.head(10)\n",
    "    \n",
    "    log_progress(\"Data extraction completed\")\n",
    "    return df\n"
   ]
  },
  {
   "cell_type": "code",
   "execution_count": 5,
   "id": "088e4e71-868d-48a9-9886-636498805ca1",
   "metadata": {},
   "outputs": [],
   "source": [
    "def transform(df, exchange_rate_path):\n",
    "    rates = pd.read_csv(\"exchange_rate.csv\")\n",
    "    rate_dict = dict(zip(rates['Currency'], rates['Rate']))\n",
    "    \n",
    "    df[\"MC_GBP_Billion\"] = (df[\"MC_USD_Billion\"] * rate_dict[\"GBP\"]).round(2)\n",
    "    df[\"MC_EUR_Billion\"] = (df[\"MC_USD_Billion\"] * rate_dict[\"EUR\"]).round(2)\n",
    "    df[\"MC_INR_Billion\"] = (df[\"MC_USD_Billion\"] * rate_dict[\"INR\"]).round(2)\n",
    "    \n",
    "    log_progress(\"Data transformation completed\")\n",
    "    return df"
   ]
  },
  {
   "cell_type": "code",
   "execution_count": 6,
   "id": "975db79c-e20d-408f-bc11-3b428b39c29e",
   "metadata": {},
   "outputs": [],
   "source": [
    "def load_to_csv(df, csv_path):\n",
    "    df.to_csv(csv_path, index=False)\n",
    "    log_progress(f\"Data saved to CSV at {csv_path}\")"
   ]
  },
  {
   "cell_type": "code",
   "execution_count": 7,
   "id": "f73d4ac4-e4dd-48e8-aec1-31bb092484bf",
   "metadata": {},
   "outputs": [],
   "source": [
    "def load_to_db(df, db_name, table_name):\n",
    "    conn = sqlite3.connect(db_name)\n",
    "    df.to_sql(table_name, conn, if_exists=\"replace\", index=False)\n",
    "    conn.close()\n",
    "    log_progress(f\"Data saved to Database {db_name}, table {table_name}\")"
   ]
  },
  {
   "cell_type": "code",
   "execution_count": 8,
   "id": "b96d48e6-0b1d-4f3e-b3c9-04f4bd90dfc3",
   "metadata": {},
   "outputs": [
    {
     "ename": "NameError",
     "evalue": "name 'df_extracted' is not defined",
     "output_type": "error",
     "traceback": [
      "\u001b[1;31m---------------------------------------------------------------------------\u001b[0m",
      "\u001b[1;31mNameError\u001b[0m                                 Traceback (most recent call last)",
      "Cell \u001b[1;32mIn[8], line 16\u001b[0m\n\u001b[0;32m     13\u001b[0m     load_to_db(df_transformed, db_name, table_name)\n\u001b[0;32m     15\u001b[0m     log_progress(\u001b[38;5;124m\"\u001b[39m\u001b[38;5;124mETL process completed\u001b[39m\u001b[38;5;124m\"\u001b[39m)\n\u001b[1;32m---> 16\u001b[0m \u001b[38;5;28mprint\u001b[39m(df_extracted)\n\u001b[0;32m     18\u001b[0m \u001b[38;5;28;01mif\u001b[39;00m \u001b[38;5;18m__name__\u001b[39m \u001b[38;5;241m==\u001b[39m \u001b[38;5;124m\"\u001b[39m\u001b[38;5;124m__main__\u001b[39m\u001b[38;5;124m\"\u001b[39m:\n\u001b[0;32m     19\u001b[0m     main()\n",
      "\u001b[1;31mNameError\u001b[0m: name 'df_extracted' is not defined"
     ]
    }
   ],
   "source": [
    "def main():\n",
    "    url = \"https://web.archive.org/web/20230908091635 /https://en.wikipedia.org/wiki/List_of_largest_banks\"\n",
    "    exchange_rate_path = \"exchange_rate.csv\"\n",
    "    csv_path = \"./Largest_banks_data.csv\"\n",
    "    db_name = \"Banks.db\"\n",
    "    table_name = \"Largest_banks\"\n",
    "    \n",
    "    log_progress(\"ETL process started\")\n",
    "    \n",
    "    df_extracted = extract(url)\n",
    "    df_transformed = transform(df_extracted, \"exchange_rate.csv\")\n",
    "    load_to_csv(df_transformed, csv_path)\n",
    "    load_to_db(df_transformed, db_name, table_name)\n",
    "    \n",
    "    log_progress(\"ETL process completed\")\n",
    "\n",
    "\n",
    "if __name__ == \"__main__\":\n",
    "    main()"
   ]
  },
  {
   "cell_type": "code",
   "execution_count": null,
   "id": "b3f268ea-1eaa-43b6-a264-2acb2e202984",
   "metadata": {},
   "outputs": [],
   "source": []
  }
 ],
 "metadata": {
  "kernelspec": {
   "display_name": "Python 3 (ipykernel)",
   "language": "python",
   "name": "python3"
  },
  "language_info": {
   "codemirror_mode": {
    "name": "ipython",
    "version": 3
   },
   "file_extension": ".py",
   "mimetype": "text/x-python",
   "name": "python",
   "nbconvert_exporter": "python",
   "pygments_lexer": "ipython3",
   "version": "3.12.7"
  }
 },
 "nbformat": 4,
 "nbformat_minor": 5
}
